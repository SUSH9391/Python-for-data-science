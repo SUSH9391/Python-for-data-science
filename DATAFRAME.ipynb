{
 "cells": [
  {
   "cell_type": "code",
   "execution_count": null,
   "id": "b017179e",
   "metadata": {},
   "outputs": [],
   "source": [
    "!pip install pandas"
   ]
  },
  {
   "cell_type": "code",
   "execution_count": null,
   "id": "4b58ad12",
   "metadata": {},
   "outputs": [],
   "source": [
    "import os"
   ]
  },
  {
   "cell_type": "code",
   "execution_count": null,
   "id": "796daa1c",
   "metadata": {},
   "outputs": [],
   "source": [
    "os.getcwd()"
   ]
  },
  {
   "cell_type": "code",
   "execution_count": null,
   "id": "980b49cd",
   "metadata": {},
   "outputs": [],
   "source": [
    "import pandas as pd\n",
    "import numpy as np"
   ]
  },
  {
   "cell_type": "markdown",
   "id": "3f01c13a",
   "metadata": {},
   "source": [
    "# 1.creating a dataframe from an array\n"
   ]
  },
  {
   "cell_type": "markdown",
   "id": "85652434",
   "metadata": {},
   "source": [
    "## 1.1 OPTION 1"
   ]
  },
  {
   "cell_type": "code",
   "execution_count": null,
   "id": "170ad558",
   "metadata": {},
   "outputs": [],
   "source": [
    "#creating an array\n",
    "data = np.array([[1,4],[2,5],[3,6]])"
   ]
  },
  {
   "cell_type": "code",
   "execution_count": null,
   "id": "5acadf5d",
   "metadata": {},
   "outputs": [],
   "source": [
    "#creating dataframe\n",
    "df=pd.DataFrame(data, index=['row1','row2','row3'],columns = ['col1','col2'])"
   ]
  },
  {
   "cell_type": "code",
   "execution_count": null,
   "id": "a4e97f20",
   "metadata": {},
   "outputs": [],
   "source": [
    "df"
   ]
  },
  {
   "cell_type": "markdown",
   "id": "0d40c5db",
   "metadata": {},
   "source": [
    "## 1.2 OPTION 2"
   ]
  },
  {
   "cell_type": "code",
   "execution_count": null,
   "id": "9ea282e6",
   "metadata": {},
   "outputs": [],
   "source": [
    "#creating an array\n",
    "data = [[1,4],[2,5],[3,6]]"
   ]
  },
  {
   "cell_type": "code",
   "execution_count": null,
   "id": "b63c02cd",
   "metadata": {},
   "outputs": [],
   "source": [
    "#creating dataframe\n",
    "df=pd.DataFrame(data, index=['row1','row2','row3'],columns = ['col1','col2'])"
   ]
  },
  {
   "cell_type": "code",
   "execution_count": null,
   "id": "9622af84",
   "metadata": {},
   "outputs": [],
   "source": [
    "df"
   ]
  },
  {
   "cell_type": "markdown",
   "id": "b63dbff9",
   "metadata": {},
   "source": [
    "# 2 Creating a dataframe from a dictionary"
   ]
  },
  {
   "cell_type": "code",
   "execution_count": null,
   "id": "598c1f5b",
   "metadata": {},
   "outputs": [],
   "source": [
    "#list used for this example\n",
    "states= ['california','texas','Florida',\"New York\"]\n",
    "population = [39613493,29730311,21944577,19299981]\n"
   ]
  },
  {
   "cell_type": "code",
   "execution_count": null,
   "id": "336cff3b",
   "metadata": {},
   "outputs": [],
   "source": [
    "# sorting list within a dictionary\n",
    "dict_states = {'States':states,'Population':population}"
   ]
  },
  {
   "cell_type": "code",
   "execution_count": null,
   "id": "7a29bbea",
   "metadata": {},
   "outputs": [],
   "source": [
    "# creating a dataframe\n",
    "df = pd.DataFrame(dict_states)"
   ]
  },
  {
   "cell_type": "code",
   "execution_count": null,
   "id": "dd9c83b5",
   "metadata": {},
   "outputs": [],
   "source": [
    "# showing the dataframe\n",
    "df"
   ]
  },
  {
   "cell_type": "code",
   "execution_count": null,
   "id": "98ed71af",
   "metadata": {},
   "outputs": [],
   "source": [
    "df_population = pd.DataFrame(dict_states)"
   ]
  },
  {
   "cell_type": "code",
   "execution_count": null,
   "id": "e4f5964c",
   "metadata": {},
   "outputs": [],
   "source": [
    "df_population"
   ]
  },
  {
   "cell_type": "markdown",
   "id": "d997ae4b",
   "metadata": {},
   "source": [
    "# 3 Creating a dataframe using csv file"
   ]
  },
  {
   "cell_type": "code",
   "execution_count": null,
   "id": "dbbb162a",
   "metadata": {},
   "outputs": [],
   "source": [
    "#reading csv file\n",
    "df_exams=pd.read_csv('StudentsPerformance.csv')"
   ]
  },
  {
   "cell_type": "code",
   "execution_count": null,
   "id": "c10d0873",
   "metadata": {},
   "outputs": [],
   "source": [
    "# reading the first 5 rows\n",
    "df_exams.head()"
   ]
  },
  {
   "cell_type": "code",
   "execution_count": null,
   "id": "903beea5",
   "metadata": {},
   "outputs": [],
   "source": [
    "df_exams.tail() #the last 5 rows"
   ]
  },
  {
   "cell_type": "code",
   "execution_count": null,
   "id": "b9a371c0",
   "metadata": {},
   "outputs": [],
   "source": [
    "#getting shape attribute\n",
    "df_exams.shape"
   ]
  },
  {
   "cell_type": "code",
   "execution_count": null,
   "id": "3591f2c5",
   "metadata": {},
   "outputs": [],
   "source": [
    "!git init\n"
   ]
  },
  {
   "cell_type": "code",
   "execution_count": null,
   "id": "8a23efd7",
   "metadata": {},
   "outputs": [],
   "source": [
    "!git add ."
   ]
  },
  {
   "cell_type": "code",
   "execution_count": null,
   "id": "a3f79be5",
   "metadata": {},
   "outputs": [],
   "source": [
    "!git commit -m \"accessing dataframes\""
   ]
  },
  {
   "cell_type": "code",
   "execution_count": null,
   "id": "7b53e34e",
   "metadata": {},
   "outputs": [],
   "source": [
    "!git push -u origin main"
   ]
  },
  {
   "cell_type": "markdown",
   "id": "1b88e41a",
   "metadata": {},
   "source": [
    "# 1 Attributes"
   ]
  },
  {
   "cell_type": "code",
   "execution_count": null,
   "id": "aef46029",
   "metadata": {},
   "outputs": [],
   "source": [
    "# getting access to the shape attribute, shape attribute returns the number of rows and colums in a dataframe in ('rows','columns') format\n",
    "df_exams.shape"
   ]
  },
  {
   "cell_type": "code",
   "execution_count": null,
   "id": "7d5c96c1",
   "metadata": {},
   "outputs": [],
   "source": [
    " #getting access to the index attribute \n",
    "df_exams.index"
   ]
  },
  {
   "cell_type": "code",
   "execution_count": null,
   "id": "9bbfdecd",
   "metadata": {},
   "outputs": [],
   "source": [
    "#getting access to column attribute\n",
    "df_exams.columns"
   ]
  },
  {
   "cell_type": "code",
   "execution_count": null,
   "id": "0eacc561",
   "metadata": {},
   "outputs": [],
   "source": [
    "#data types of object\n",
    "df_exams.dtypes"
   ]
  },
  {
   "cell_type": "markdown",
   "id": "ff8d1f58",
   "metadata": {},
   "source": [
    "# 2 Methods"
   ]
  },
  {
   "cell_type": "code",
   "execution_count": null,
   "id": "2e9e1351",
   "metadata": {},
   "outputs": [],
   "source": [
    "# showing the info of the dataframe\n",
    "df_exams.info()"
   ]
  },
  {
   "cell_type": "code",
   "execution_count": null,
   "id": "6dc1a94d",
   "metadata": {},
   "outputs": [],
   "source": [
    "df_exams.describe()"
   ]
  },
  {
   "cell_type": "markdown",
   "id": "08cd7d89",
   "metadata": {},
   "source": [
    "# 3 Functions"
   ]
  },
  {
   "cell_type": "code",
   "execution_count": null,
   "id": "679421c3",
   "metadata": {},
   "outputs": [],
   "source": [
    "#obtaining the length of the dataframe (no. of rows)\n",
    "len(df_exams)"
   ]
  },
  {
   "cell_type": "code",
   "execution_count": null,
   "id": "8491272c",
   "metadata": {},
   "outputs": [],
   "source": [
    "# obtaing the highest index of the dataframe\n",
    "max(df_exams.index)"
   ]
  },
  {
   "cell_type": "code",
   "execution_count": null,
   "id": "139e95a2",
   "metadata": {},
   "outputs": [],
   "source": [
    "#obtaining the datatype of dataframe\n",
    "type(df_exams)"
   ]
  },
  {
   "cell_type": "code",
   "execution_count": null,
   "id": "64fbe263",
   "metadata": {},
   "outputs": [],
   "source": [
    "# rounding the values of df\n",
    "round(df_exams,2)"
   ]
  },
  {
   "cell_type": "markdown",
   "id": "bc047ad9",
   "metadata": {},
   "source": [
    "# Selecting 1 columns"
   ]
  },
  {
   "cell_type": "markdown",
   "id": "ee35b84f",
   "metadata": {},
   "source": [
    "# 1.1 syntax 1"
   ]
  },
  {
   "cell_type": "code",
   "execution_count": null,
   "id": "59b94c1f",
   "metadata": {},
   "outputs": [],
   "source": [
    "#selecting a column with [] (prefferred way to select a column)\n",
    "df_exams['gender']"
   ]
  },
  {
   "cell_type": "code",
   "execution_count": null,
   "id": "aa09794b",
   "metadata": {},
   "outputs": [],
   "source": [
    "# check out the data type of a column\n",
    "type(df_exams['gender'])"
   ]
  },
  {
   "cell_type": "code",
   "execution_count": null,
   "id": "6a0ae316",
   "metadata": {},
   "outputs": [],
   "source": [
    "df_exams['gender'].index"
   ]
  },
  {
   "cell_type": "code",
   "execution_count": null,
   "id": "f3442652",
   "metadata": {},
   "outputs": [],
   "source": [
    "df_exams['gender'].head()"
   ]
  },
  {
   "cell_type": "markdown",
   "id": "29c62018",
   "metadata": {},
   "source": [
    "## 1.2 Syntax 2"
   ]
  },
  {
   "cell_type": "code",
   "execution_count": null,
   "id": "75a44dfc",
   "metadata": {},
   "outputs": [],
   "source": [
    "df_exams.gender"
   ]
  },
  {
   "cell_type": "code",
   "execution_count": null,
   "id": "5796c3c8",
   "metadata": {},
   "outputs": [],
   "source": [
    "#pitfalls of this syntax\n",
    "df_exams.math score"
   ]
  },
  {
   "cell_type": "code",
   "execution_count": null,
   "id": "6a8df354",
   "metadata": {},
   "outputs": [],
   "source": [
    "df_exams['math score']"
   ]
  },
  {
   "cell_type": "markdown",
   "id": "d4e88360",
   "metadata": {},
   "source": [
    "# Selecting 2 or more columns"
   ]
  },
  {
   "cell_type": "code",
   "execution_count": null,
   "id": "94ad8326",
   "metadata": {},
   "outputs": [],
   "source": [
    "# selecting 2 colums using [[]]\n",
    "df_exams[['gender','math score']]"
   ]
  },
  {
   "cell_type": "markdown",
   "id": "8890a13c",
   "metadata": {},
   "source": [
    " # Adding a new column with scalar value"
   ]
  },
  {
   "cell_type": "code",
   "execution_count": null,
   "id": "e9d16dbe",
   "metadata": {},
   "outputs": [],
   "source": [
    "df_exams['langauge_score']=78"
   ]
  },
  {
   "cell_type": "code",
   "execution_count": null,
   "id": "0d6a5e09",
   "metadata": {},
   "outputs": [],
   "source": [
    "df_exams['langauge_score']"
   ]
  },
  {
   "cell_type": "markdown",
   "id": "ec261088",
   "metadata": {},
   "source": [
    "# adding new value / col uing array"
   ]
  },
  {
   "cell_type": "code",
   "execution_count": null,
   "id": "144130c8",
   "metadata": {},
   "outputs": [],
   "source": [
    "import numpy as np"
   ]
  },
  {
   "cell_type": "code",
   "execution_count": null,
   "id": "16f1668b",
   "metadata": {},
   "outputs": [],
   "source": [
    "langauge_score= np.arange(0,1000)"
   ]
  },
  {
   "cell_type": "code",
   "execution_count": null,
   "id": "e14d1552",
   "metadata": {},
   "outputs": [],
   "source": [
    "len(langauge_score)"
   ]
  },
  {
   "cell_type": "code",
   "execution_count": null,
   "id": "86416397",
   "metadata": {},
   "outputs": [],
   "source": [
    "df_exams['langauge_score'] = langauge_score"
   ]
  },
  {
   "cell_type": "code",
   "execution_count": null,
   "id": "ac53ff4f",
   "metadata": {},
   "outputs": [],
   "source": [
    "df_exams['langauge_score']"
   ]
  },
  {
   "cell_type": "code",
   "execution_count": null,
   "id": "a55ca875",
   "metadata": {},
   "outputs": [],
   "source": [
    "int_langauge_score=np.random.randint(1,100,size=1000)"
   ]
  },
  {
   "cell_type": "code",
   "execution_count": null,
   "id": "c72b21bb",
   "metadata": {},
   "outputs": [],
   "source": [
    "min(int_langauge_score)"
   ]
  },
  {
   "cell_type": "code",
   "execution_count": null,
   "id": "7119ad8e",
   "metadata": {},
   "outputs": [],
   "source": [
    "df_exams['langauge_score'] = int_langauge_score"
   ]
  },
  {
   "cell_type": "code",
   "execution_count": null,
   "id": "942a9840",
   "metadata": {},
   "outputs": [],
   "source": [
    "df_exams['langauge_score'] "
   ]
  },
  {
   "cell_type": "markdown",
   "id": "a41c5ad1",
   "metadata": {},
   "source": [
    "# Adding new values to the dataframe using methods"
   ]
  },
  {
   "cell_type": "markdown",
   "id": "5173a629",
   "metadata": {},
   "source": [
    "## 1.1 assign()"
   ]
  },
  {
   "cell_type": "code",
   "execution_count": null,
   "id": "8c7f859b",
   "metadata": {},
   "outputs": [],
   "source": [
    "!git commit -m \"assigning new features to existing one using methods\""
   ]
  },
  {
   "cell_type": "code",
   "execution_count": null,
   "id": "351ae307",
   "metadata": {},
   "outputs": [],
   "source": [
    "!git push -u origin main"
   ]
  },
  {
   "cell_type": "code",
   "execution_count": null,
   "id": "246b1511",
   "metadata": {},
   "outputs": [],
   "source": [
    "!git init"
   ]
  },
  {
   "cell_type": "code",
   "execution_count": null,
   "id": "4f4005bc",
   "metadata": {},
   "outputs": [],
   "source": [
    "!git add .\n"
   ]
  },
  {
   "cell_type": "code",
   "execution_count": null,
   "id": "7d7fda0d",
   "metadata": {},
   "outputs": [],
   "source": [
    "import numpy as np"
   ]
  },
  {
   "cell_type": "code",
   "execution_count": null,
   "id": "a796850f",
   "metadata": {},
   "outputs": [],
   "source": [
    "score1 = np.random.randint(1, 100, size=1000)\n",
    "score2 = np.random.randint(1, 100, size=1000)"
   ]
  },
  {
   "cell_type": "code",
   "execution_count": null,
   "id": "f7184075",
   "metadata": {},
   "outputs": [],
   "source": [
    "series1= pd.Series(score1,index=np.arange(0,1000))\n",
    "series2= pd.Series(score2,index=np.arange(0,1000))"
   ]
  },
  {
   "cell_type": "code",
   "execution_count": null,
   "id": "5b503554",
   "metadata": {},
   "outputs": [],
   "source": [
    "df_exams.assign(score1=series1, score2=series2)"
   ]
  },
  {
   "cell_type": "markdown",
   "id": "bfc80058",
   "metadata": {},
   "source": [
    "# insert"
   ]
  },
  {
   "cell_type": "code",
   "execution_count": null,
   "id": "26300cbf",
   "metadata": {},
   "outputs": [],
   "source": [
    "# using insert() to add a column at a specific position\n",
    "df_exams.insert(1,'test', series1)"
   ]
  },
  {
   "cell_type": "code",
   "execution_count": null,
   "id": "921d2564",
   "metadata": {},
   "outputs": [],
   "source": [
    "df_exams"
   ]
  },
  {
   "cell_type": "markdown",
   "id": "67343704",
   "metadata": {},
   "source": [
    "# Operations on Dataframes"
   ]
  },
  {
   "cell_type": "code",
   "execution_count": 3,
   "id": "c8663cbd",
   "metadata": {},
   "outputs": [],
   "source": [
    "import pandas as pd"
   ]
  },
  {
   "cell_type": "code",
   "execution_count": 4,
   "id": "368967b6",
   "metadata": {},
   "outputs": [
    {
     "data": {
      "text/html": [
       "<div>\n",
       "<style scoped>\n",
       "    .dataframe tbody tr th:only-of-type {\n",
       "        vertical-align: middle;\n",
       "    }\n",
       "\n",
       "    .dataframe tbody tr th {\n",
       "        vertical-align: top;\n",
       "    }\n",
       "\n",
       "    .dataframe thead th {\n",
       "        text-align: right;\n",
       "    }\n",
       "</style>\n",
       "<table border=\"1\" class=\"dataframe\">\n",
       "  <thead>\n",
       "    <tr style=\"text-align: right;\">\n",
       "      <th></th>\n",
       "      <th>gender</th>\n",
       "      <th>race/ethnicity</th>\n",
       "      <th>parental level of education</th>\n",
       "      <th>lunch</th>\n",
       "      <th>test preparation course</th>\n",
       "      <th>math score</th>\n",
       "      <th>reading score</th>\n",
       "      <th>writing score</th>\n",
       "    </tr>\n",
       "  </thead>\n",
       "  <tbody>\n",
       "    <tr>\n",
       "      <th>0</th>\n",
       "      <td>female</td>\n",
       "      <td>group B</td>\n",
       "      <td>bachelor's degree</td>\n",
       "      <td>standard</td>\n",
       "      <td>none</td>\n",
       "      <td>72</td>\n",
       "      <td>72</td>\n",
       "      <td>74</td>\n",
       "    </tr>\n",
       "    <tr>\n",
       "      <th>1</th>\n",
       "      <td>female</td>\n",
       "      <td>group C</td>\n",
       "      <td>some college</td>\n",
       "      <td>standard</td>\n",
       "      <td>completed</td>\n",
       "      <td>69</td>\n",
       "      <td>90</td>\n",
       "      <td>88</td>\n",
       "    </tr>\n",
       "    <tr>\n",
       "      <th>2</th>\n",
       "      <td>female</td>\n",
       "      <td>group B</td>\n",
       "      <td>master's degree</td>\n",
       "      <td>standard</td>\n",
       "      <td>none</td>\n",
       "      <td>90</td>\n",
       "      <td>95</td>\n",
       "      <td>93</td>\n",
       "    </tr>\n",
       "    <tr>\n",
       "      <th>3</th>\n",
       "      <td>male</td>\n",
       "      <td>group A</td>\n",
       "      <td>associate's degree</td>\n",
       "      <td>free/reduced</td>\n",
       "      <td>none</td>\n",
       "      <td>47</td>\n",
       "      <td>57</td>\n",
       "      <td>44</td>\n",
       "    </tr>\n",
       "    <tr>\n",
       "      <th>4</th>\n",
       "      <td>male</td>\n",
       "      <td>group C</td>\n",
       "      <td>some college</td>\n",
       "      <td>standard</td>\n",
       "      <td>none</td>\n",
       "      <td>76</td>\n",
       "      <td>78</td>\n",
       "      <td>75</td>\n",
       "    </tr>\n",
       "  </tbody>\n",
       "</table>\n",
       "</div>"
      ],
      "text/plain": [
       "   gender race/ethnicity parental level of education         lunch  \\\n",
       "0  female        group B           bachelor's degree      standard   \n",
       "1  female        group C                some college      standard   \n",
       "2  female        group B             master's degree      standard   \n",
       "3    male        group A          associate's degree  free/reduced   \n",
       "4    male        group C                some college      standard   \n",
       "\n",
       "  test preparation course  math score  reading score  writing score  \n",
       "0                    none          72             72             74  \n",
       "1               completed          69             90             88  \n",
       "2                    none          90             95             93  \n",
       "3                    none          47             57             44  \n",
       "4                    none          76             78             75  "
      ]
     },
     "execution_count": 4,
     "metadata": {},
     "output_type": "execute_result"
    }
   ],
   "source": [
    "# reading the csv file\n",
    "df_exams = pd.read_csv('StudentsPerformance.csv')\n",
    "df_exams.head()"
   ]
  },
  {
   "cell_type": "markdown",
   "id": "e74a519b",
   "metadata": {},
   "source": [
    "# Math Operations "
   ]
  },
  {
   "cell_type": "markdown",
   "id": "ddae9d8f",
   "metadata": {},
   "source": [
    "## Operations in columns"
   ]
  },
  {
   "cell_type": "code",
   "execution_count": 5,
   "id": "d51ba5dc",
   "metadata": {},
   "outputs": [
    {
     "data": {
      "text/plain": [
       "66089"
      ]
     },
     "execution_count": 5,
     "metadata": {},
     "output_type": "execute_result"
    }
   ],
   "source": [
    "# select a column and calculate total sum\n",
    "df_exams['math score'].sum()"
   ]
  },
  {
   "cell_type": "code",
   "execution_count": 6,
   "id": "06a2d0d8",
   "metadata": {},
   "outputs": [
    {
     "data": {
      "text/plain": [
       "0"
      ]
     },
     "execution_count": 6,
     "metadata": {},
     "output_type": "execute_result"
    }
   ],
   "source": [
    "# count, mean, std, max, and min\n",
    "df_exams['math score'].count()\n",
    "df_exams['math score'].mean()\n",
    "df_exams['math score'].std()\n",
    "df_exams['math score'].max()\n",
    "df_exams['math score'].min()"
   ]
  },
  {
   "cell_type": "code",
   "execution_count": 7,
   "id": "1a6640a9",
   "metadata": {},
   "outputs": [
    {
     "data": {
      "text/html": [
       "<div>\n",
       "<style scoped>\n",
       "    .dataframe tbody tr th:only-of-type {\n",
       "        vertical-align: middle;\n",
       "    }\n",
       "\n",
       "    .dataframe tbody tr th {\n",
       "        vertical-align: top;\n",
       "    }\n",
       "\n",
       "    .dataframe thead th {\n",
       "        text-align: right;\n",
       "    }\n",
       "</style>\n",
       "<table border=\"1\" class=\"dataframe\">\n",
       "  <thead>\n",
       "    <tr style=\"text-align: right;\">\n",
       "      <th></th>\n",
       "      <th>math score</th>\n",
       "      <th>reading score</th>\n",
       "      <th>writing score</th>\n",
       "    </tr>\n",
       "  </thead>\n",
       "  <tbody>\n",
       "    <tr>\n",
       "      <th>count</th>\n",
       "      <td>1000.00000</td>\n",
       "      <td>1000.000000</td>\n",
       "      <td>1000.000000</td>\n",
       "    </tr>\n",
       "    <tr>\n",
       "      <th>mean</th>\n",
       "      <td>66.08900</td>\n",
       "      <td>69.169000</td>\n",
       "      <td>68.054000</td>\n",
       "    </tr>\n",
       "    <tr>\n",
       "      <th>std</th>\n",
       "      <td>15.16308</td>\n",
       "      <td>14.600192</td>\n",
       "      <td>15.195657</td>\n",
       "    </tr>\n",
       "    <tr>\n",
       "      <th>min</th>\n",
       "      <td>0.00000</td>\n",
       "      <td>17.000000</td>\n",
       "      <td>10.000000</td>\n",
       "    </tr>\n",
       "    <tr>\n",
       "      <th>25%</th>\n",
       "      <td>57.00000</td>\n",
       "      <td>59.000000</td>\n",
       "      <td>57.750000</td>\n",
       "    </tr>\n",
       "    <tr>\n",
       "      <th>50%</th>\n",
       "      <td>66.00000</td>\n",
       "      <td>70.000000</td>\n",
       "      <td>69.000000</td>\n",
       "    </tr>\n",
       "    <tr>\n",
       "      <th>75%</th>\n",
       "      <td>77.00000</td>\n",
       "      <td>79.000000</td>\n",
       "      <td>79.000000</td>\n",
       "    </tr>\n",
       "    <tr>\n",
       "      <th>max</th>\n",
       "      <td>100.00000</td>\n",
       "      <td>100.000000</td>\n",
       "      <td>100.000000</td>\n",
       "    </tr>\n",
       "  </tbody>\n",
       "</table>\n",
       "</div>"
      ],
      "text/plain": [
       "       math score  reading score  writing score\n",
       "count  1000.00000    1000.000000    1000.000000\n",
       "mean     66.08900      69.169000      68.054000\n",
       "std      15.16308      14.600192      15.195657\n",
       "min       0.00000      17.000000      10.000000\n",
       "25%      57.00000      59.000000      57.750000\n",
       "50%      66.00000      70.000000      69.000000\n",
       "75%      77.00000      79.000000      79.000000\n",
       "max     100.00000     100.000000     100.000000"
      ]
     },
     "execution_count": 7,
     "metadata": {},
     "output_type": "execute_result"
    }
   ],
   "source": [
    "\n",
    "# easier calculation with .describe()\n",
    "df_exams.describe()"
   ]
  },
  {
   "cell_type": "code",
   "execution_count": 8,
   "id": "834894cb",
   "metadata": {},
   "outputs": [
    {
     "data": {
      "text/plain": [
       "0      218\n",
       "1      247\n",
       "2      278\n",
       "3      148\n",
       "4      229\n",
       "      ... \n",
       "995    282\n",
       "996    172\n",
       "997    195\n",
       "998    223\n",
       "999    249\n",
       "Length: 1000, dtype: int64"
      ]
     },
     "execution_count": 8,
     "metadata": {},
     "output_type": "execute_result"
    }
   ],
   "source": [
    "# calculating the sum in a row\n",
    "df_exams['math score'] + df_exams['reading score'] + df_exams['writing score']"
   ]
  },
  {
   "cell_type": "code",
   "execution_count": 9,
   "id": "4478d7b2",
   "metadata": {},
   "outputs": [],
   "source": [
    "# calculating the average score and assigning the result to a new column\n",
    "df_exams['average'] = (df_exams['math score'] + df_exams['reading score'] + df_exams['writing score'])/3"
   ]
  },
  {
   "cell_type": "code",
   "execution_count": 10,
   "id": "3fe445b3",
   "metadata": {},
   "outputs": [
    {
     "data": {
      "text/html": [
       "<div>\n",
       "<style scoped>\n",
       "    .dataframe tbody tr th:only-of-type {\n",
       "        vertical-align: middle;\n",
       "    }\n",
       "\n",
       "    .dataframe tbody tr th {\n",
       "        vertical-align: top;\n",
       "    }\n",
       "\n",
       "    .dataframe thead th {\n",
       "        text-align: right;\n",
       "    }\n",
       "</style>\n",
       "<table border=\"1\" class=\"dataframe\">\n",
       "  <thead>\n",
       "    <tr style=\"text-align: right;\">\n",
       "      <th></th>\n",
       "      <th>gender</th>\n",
       "      <th>race/ethnicity</th>\n",
       "      <th>parental level of education</th>\n",
       "      <th>lunch</th>\n",
       "      <th>test preparation course</th>\n",
       "      <th>math score</th>\n",
       "      <th>reading score</th>\n",
       "      <th>writing score</th>\n",
       "      <th>average</th>\n",
       "    </tr>\n",
       "  </thead>\n",
       "  <tbody>\n",
       "    <tr>\n",
       "      <th>0</th>\n",
       "      <td>female</td>\n",
       "      <td>group B</td>\n",
       "      <td>bachelor's degree</td>\n",
       "      <td>standard</td>\n",
       "      <td>none</td>\n",
       "      <td>72</td>\n",
       "      <td>72</td>\n",
       "      <td>74</td>\n",
       "      <td>72.666667</td>\n",
       "    </tr>\n",
       "    <tr>\n",
       "      <th>1</th>\n",
       "      <td>female</td>\n",
       "      <td>group C</td>\n",
       "      <td>some college</td>\n",
       "      <td>standard</td>\n",
       "      <td>completed</td>\n",
       "      <td>69</td>\n",
       "      <td>90</td>\n",
       "      <td>88</td>\n",
       "      <td>82.333333</td>\n",
       "    </tr>\n",
       "    <tr>\n",
       "      <th>2</th>\n",
       "      <td>female</td>\n",
       "      <td>group B</td>\n",
       "      <td>master's degree</td>\n",
       "      <td>standard</td>\n",
       "      <td>none</td>\n",
       "      <td>90</td>\n",
       "      <td>95</td>\n",
       "      <td>93</td>\n",
       "      <td>92.666667</td>\n",
       "    </tr>\n",
       "    <tr>\n",
       "      <th>3</th>\n",
       "      <td>male</td>\n",
       "      <td>group A</td>\n",
       "      <td>associate's degree</td>\n",
       "      <td>free/reduced</td>\n",
       "      <td>none</td>\n",
       "      <td>47</td>\n",
       "      <td>57</td>\n",
       "      <td>44</td>\n",
       "      <td>49.333333</td>\n",
       "    </tr>\n",
       "    <tr>\n",
       "      <th>4</th>\n",
       "      <td>male</td>\n",
       "      <td>group C</td>\n",
       "      <td>some college</td>\n",
       "      <td>standard</td>\n",
       "      <td>none</td>\n",
       "      <td>76</td>\n",
       "      <td>78</td>\n",
       "      <td>75</td>\n",
       "      <td>76.333333</td>\n",
       "    </tr>\n",
       "    <tr>\n",
       "      <th>...</th>\n",
       "      <td>...</td>\n",
       "      <td>...</td>\n",
       "      <td>...</td>\n",
       "      <td>...</td>\n",
       "      <td>...</td>\n",
       "      <td>...</td>\n",
       "      <td>...</td>\n",
       "      <td>...</td>\n",
       "      <td>...</td>\n",
       "    </tr>\n",
       "    <tr>\n",
       "      <th>995</th>\n",
       "      <td>female</td>\n",
       "      <td>group E</td>\n",
       "      <td>master's degree</td>\n",
       "      <td>standard</td>\n",
       "      <td>completed</td>\n",
       "      <td>88</td>\n",
       "      <td>99</td>\n",
       "      <td>95</td>\n",
       "      <td>94.000000</td>\n",
       "    </tr>\n",
       "    <tr>\n",
       "      <th>996</th>\n",
       "      <td>male</td>\n",
       "      <td>group C</td>\n",
       "      <td>high school</td>\n",
       "      <td>free/reduced</td>\n",
       "      <td>none</td>\n",
       "      <td>62</td>\n",
       "      <td>55</td>\n",
       "      <td>55</td>\n",
       "      <td>57.333333</td>\n",
       "    </tr>\n",
       "    <tr>\n",
       "      <th>997</th>\n",
       "      <td>female</td>\n",
       "      <td>group C</td>\n",
       "      <td>high school</td>\n",
       "      <td>free/reduced</td>\n",
       "      <td>completed</td>\n",
       "      <td>59</td>\n",
       "      <td>71</td>\n",
       "      <td>65</td>\n",
       "      <td>65.000000</td>\n",
       "    </tr>\n",
       "    <tr>\n",
       "      <th>998</th>\n",
       "      <td>female</td>\n",
       "      <td>group D</td>\n",
       "      <td>some college</td>\n",
       "      <td>standard</td>\n",
       "      <td>completed</td>\n",
       "      <td>68</td>\n",
       "      <td>78</td>\n",
       "      <td>77</td>\n",
       "      <td>74.333333</td>\n",
       "    </tr>\n",
       "    <tr>\n",
       "      <th>999</th>\n",
       "      <td>female</td>\n",
       "      <td>group D</td>\n",
       "      <td>some college</td>\n",
       "      <td>free/reduced</td>\n",
       "      <td>none</td>\n",
       "      <td>77</td>\n",
       "      <td>86</td>\n",
       "      <td>86</td>\n",
       "      <td>83.000000</td>\n",
       "    </tr>\n",
       "  </tbody>\n",
       "</table>\n",
       "<p>1000 rows × 9 columns</p>\n",
       "</div>"
      ],
      "text/plain": [
       "     gender race/ethnicity parental level of education         lunch  \\\n",
       "0    female        group B           bachelor's degree      standard   \n",
       "1    female        group C                some college      standard   \n",
       "2    female        group B             master's degree      standard   \n",
       "3      male        group A          associate's degree  free/reduced   \n",
       "4      male        group C                some college      standard   \n",
       "..      ...            ...                         ...           ...   \n",
       "995  female        group E             master's degree      standard   \n",
       "996    male        group C                 high school  free/reduced   \n",
       "997  female        group C                 high school  free/reduced   \n",
       "998  female        group D                some college      standard   \n",
       "999  female        group D                some college  free/reduced   \n",
       "\n",
       "    test preparation course  math score  reading score  writing score  \\\n",
       "0                      none          72             72             74   \n",
       "1                 completed          69             90             88   \n",
       "2                      none          90             95             93   \n",
       "3                      none          47             57             44   \n",
       "4                      none          76             78             75   \n",
       "..                      ...         ...            ...            ...   \n",
       "995               completed          88             99             95   \n",
       "996                    none          62             55             55   \n",
       "997               completed          59             71             65   \n",
       "998               completed          68             78             77   \n",
       "999                    none          77             86             86   \n",
       "\n",
       "       average  \n",
       "0    72.666667  \n",
       "1    82.333333  \n",
       "2    92.666667  \n",
       "3    49.333333  \n",
       "4    76.333333  \n",
       "..         ...  \n",
       "995  94.000000  \n",
       "996  57.333333  \n",
       "997  65.000000  \n",
       "998  74.333333  \n",
       "999  83.000000  \n",
       "\n",
       "[1000 rows x 9 columns]"
      ]
     },
     "execution_count": 10,
     "metadata": {},
     "output_type": "execute_result"
    }
   ],
   "source": [
    "\n",
    "# showing the dataframe\n",
    "df_exams"
   ]
  },
  {
   "cell_type": "markdown",
   "id": "4cf46c4b",
   "metadata": {},
   "source": [
    "# Value Counts"
   ]
  },
  {
   "cell_type": "code",
   "execution_count": 11,
   "id": "d28ba63c",
   "metadata": {},
   "outputs": [
    {
     "data": {
      "text/plain": [
       "1000"
      ]
     },
     "execution_count": 11,
     "metadata": {},
     "output_type": "execute_result"
    }
   ],
   "source": [
    "# counting gender elements\n",
    "\n",
    "# len function\n",
    "len(df_exams['gender'])\n",
    "# .count() method\n",
    "df_exams['gender'].count()"
   ]
  },
  {
   "cell_type": "code",
   "execution_count": 12,
   "id": "7daebd16",
   "metadata": {},
   "outputs": [
    {
     "data": {
      "text/plain": [
       "female    518\n",
       "male      482\n",
       "Name: gender, dtype: int64"
      ]
     },
     "execution_count": 12,
     "metadata": {},
     "output_type": "execute_result"
    }
   ],
   "source": [
    "\n",
    "# counting gender elements by category\n",
    "df_exams['gender'].value_counts()"
   ]
  },
  {
   "cell_type": "code",
   "execution_count": 13,
   "id": "9e11bb95",
   "metadata": {},
   "outputs": [
    {
     "data": {
      "text/plain": [
       "female    0.518\n",
       "male      0.482\n",
       "Name: gender, dtype: float64"
      ]
     },
     "execution_count": 13,
     "metadata": {},
     "output_type": "execute_result"
    }
   ],
   "source": [
    "\n",
    "# return the relative frequency (divide all values by the sum of values)\n",
    "df_exams['gender'].value_counts(normalize=True)"
   ]
  },
  {
   "cell_type": "code",
   "execution_count": 14,
   "id": "1a57f778",
   "metadata": {},
   "outputs": [
    {
     "data": {
      "text/plain": [
       "some college          226\n",
       "associate's degree    222\n",
       "high school           196\n",
       "some high school      179\n",
       "bachelor's degree     118\n",
       "master's degree        59\n",
       "Name: parental level of education, dtype: int64"
      ]
     },
     "execution_count": 14,
     "metadata": {},
     "output_type": "execute_result"
    }
   ],
   "source": [
    "\n",
    "# counting \"parental level of education\" elements by category\n",
    "df_exams['parental level of education'].value_counts()"
   ]
  },
  {
   "cell_type": "code",
   "execution_count": 15,
   "id": "cd583a53",
   "metadata": {},
   "outputs": [
    {
     "data": {
      "text/plain": [
       "some college          0.23\n",
       "associate's degree    0.22\n",
       "high school           0.20\n",
       "some high school      0.18\n",
       "bachelor's degree     0.12\n",
       "master's degree       0.06\n",
       "Name: parental level of education, dtype: float64"
      ]
     },
     "execution_count": 15,
     "metadata": {},
     "output_type": "execute_result"
    }
   ],
   "source": [
    "# return the relative frequency and round to 2 decimals\n",
    "df_exams['parental level of education'].value_counts(normalize=True).round(2)"
   ]
  },
  {
   "cell_type": "code",
   "execution_count": null,
   "id": "57364ab0",
   "metadata": {},
   "outputs": [],
   "source": []
  },
  {
   "cell_type": "code",
   "execution_count": null,
   "id": "f8713053",
   "metadata": {},
   "outputs": [],
   "source": []
  },
  {
   "cell_type": "code",
   "execution_count": null,
   "id": "fa5da6ca",
   "metadata": {},
   "outputs": [],
   "source": []
  },
  {
   "cell_type": "code",
   "execution_count": null,
   "id": "ef7213f7",
   "metadata": {},
   "outputs": [],
   "source": []
  },
  {
   "cell_type": "code",
   "execution_count": null,
   "id": "9eff9aed",
   "metadata": {},
   "outputs": [],
   "source": []
  },
  {
   "cell_type": "code",
   "execution_count": null,
   "id": "4be87741",
   "metadata": {},
   "outputs": [],
   "source": []
  },
  {
   "cell_type": "code",
   "execution_count": null,
   "id": "a5384b80",
   "metadata": {},
   "outputs": [],
   "source": []
  }
 ],
 "metadata": {
  "kernelspec": {
   "display_name": "Python 3 (ipykernel)",
   "language": "python",
   "name": "python3"
  },
  "language_info": {
   "codemirror_mode": {
    "name": "ipython",
    "version": 3
   },
   "file_extension": ".py",
   "mimetype": "text/x-python",
   "name": "python",
   "nbconvert_exporter": "python",
   "pygments_lexer": "ipython3",
   "version": "3.9.13"
  }
 },
 "nbformat": 4,
 "nbformat_minor": 5
}
